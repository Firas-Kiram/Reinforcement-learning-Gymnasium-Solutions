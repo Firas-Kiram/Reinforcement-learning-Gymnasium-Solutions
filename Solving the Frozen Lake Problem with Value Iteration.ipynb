{
 "cells": [
  {
   "cell_type": "markdown",
   "id": "73ac5f91",
   "metadata": {},
   "source": [
    "Solving the Frozen Lake Problem with Value Iteration\n"
   ]
  },
  {
   "cell_type": "code",
   "execution_count": 3,
   "id": "ea0da761",
   "metadata": {},
   "outputs": [],
   "source": [
    "import gymnasium as gym\n",
    "import numpy as np"
   ]
  },
  {
   "cell_type": "code",
   "execution_count": 4,
   "id": "e182eaa7",
   "metadata": {},
   "outputs": [],
   "source": [
    "\n",
    "class Value_Iteration():\n",
    "    def __init__(self , env , n_iterations , discount_factor):\n",
    "        self.n_iterations = n_iterations\n",
    "        self.discount_factor = discount_factor\n",
    "        self.num_states = env.observation_space.n\n",
    "        self.num_actions = env.action_space.n\n",
    "\n",
    "        self.value_table = [0] * self.num_states\n",
    "        self.optimal_policy = [0] * self.num_states\n",
    "\n",
    "\n",
    "\n",
    "    # (probability, next_state, reward, done)\n",
    "\n",
    "    def get_optimal_value(self):\n",
    "        for _ in range(self.n_iterations):\n",
    "            for state in range(self.num_states):\n",
    "                action_Q = [0] * self.num_actions\n",
    "                for action in range(self.num_actions):\n",
    "                    info = env.unwrapped.P[state][action]\n",
    "                    proba = np.array([x[0] for x in info])\n",
    "                    R = [x[2] for x in info] + \\\n",
    "                    self.discount_factor * np.array([self.value_table[x[1]] for x in info])\n",
    "                    action_Q[action] = sum(proba * R)\n",
    "            \n",
    "                self.value_table[state] = max(action_Q)\n",
    "\n",
    "\n",
    "    def get_optimal_policy(self):\n",
    "        for _ in range(self.n_iterations):\n",
    "            for state in range(self.num_states):\n",
    "                action_Q = [0] * self.num_actions\n",
    "                for action in range(self.num_actions):\n",
    "                    info = env.unwrapped.P[state][action]\n",
    "                    proba = np.array([x[0] for x in info])\n",
    "                    R = [x[2] for x in info] + \\\n",
    "                    self.discount_factor * np.array([self.value_table[x[1]] for x in info])\n",
    "                    action_Q[action] = sum(proba * R)\n",
    "            \n",
    "                self.optimal_policy[state] = np.argmax(action_Q)\n",
    "\n",
    "        return self.optimal_policy\n"
   ]
  },
  {
   "cell_type": "code",
   "execution_count": 5,
   "id": "38d07e4b",
   "metadata": {},
   "outputs": [],
   "source": [
    "env = gym.make(\"FrozenLake-v1\", render_mode=\"human\" , is_slippery=False)\n",
    "cur_state = env.reset()\n",
    "n_iterations = 1000\n",
    "discount = 0.9\n",
    "\n",
    "app = Value_Iteration(env , n_iterations , discount)\n",
    "app.get_optimal_value()\n",
    "\n",
    "policy = app.get_optimal_policy()\n",
    "\n",
    "optimal_policy = list(map(int , policy))\n",
    "\n",
    "\n",
    "s = 0 \n",
    "done = False\n",
    "while not done:\n",
    "    t = env.step(int(policy[s]))\n",
    "    # print(t)\n",
    "    s = int(t[0])\n",
    "    done = t[2] or t[3]\n",
    "    env.render()\n",
    "\n",
    "env.close()"
   ]
  },
  {
   "cell_type": "markdown",
   "id": "cacb825f",
   "metadata": {},
   "source": [
    "We can print the obtained optimal policy:"
   ]
  },
  {
   "cell_type": "code",
   "execution_count": 6,
   "id": "66de5a0a",
   "metadata": {},
   "outputs": [
    {
     "name": "stdout",
     "output_type": "stream",
     "text": [
      "[1, 2, 1, 0, 1, 0, 1, 0, 2, 1, 1, 0, 0, 2, 2, 0]\n"
     ]
    }
   ],
   "source": [
    "print(optimal_policy)"
   ]
  },
  {
   "cell_type": "markdown",
   "id": "1b8458a4",
   "metadata": {},
   "source": [
    "As we can observe, our optimal policy tells us to perform the correct action in each state."
   ]
  }
 ],
 "metadata": {
  "kernelspec": {
   "display_name": "Python 3",
   "language": "python",
   "name": "python3"
  },
  "language_info": {
   "codemirror_mode": {
    "name": "ipython",
    "version": 3
   },
   "file_extension": ".py",
   "mimetype": "text/x-python",
   "name": "python",
   "nbconvert_exporter": "python",
   "pygments_lexer": "ipython3",
   "version": "3.12.0b4"
  }
 },
 "nbformat": 4,
 "nbformat_minor": 5
}
